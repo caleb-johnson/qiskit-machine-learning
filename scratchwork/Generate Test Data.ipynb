{
 "cells": [
  {
   "cell_type": "code",
   "execution_count": 1,
   "metadata": {},
   "outputs": [
    {
     "name": "stderr",
     "output_type": "stream",
     "text": [
      "/Users/brycefuller/anaconda3/lib/python3.7/site-packages/qiskit/aqua/operators/operator_globals.py:48: DeprecationWarning: `from_label` is deprecated and will be removed no earlier than 3 months after the release date. Use Pauli(label) instead.\n",
      "  X = make_immutable(PrimitiveOp(Pauli.from_label('X')))\n"
     ]
    }
   ],
   "source": [
    "import qiskit\n",
    "import qiskit_machine_learning as qml\n",
    "from qiskit.algorithms.optimizers import SPSA, SLSQP, COBYLA, SNOBFIT\n",
    "from qiskit.circuit import Parameter, ParameterExpression, ParameterVector\n",
    "from qiskit.circuit.library import ZZFeatureMap\n",
    "from qiskit_machine_learning.kernels.parameterized_quantum_kernel import ParamQuantumKernel\n",
    "from qiskit_machine_learning.kernels import QuantumKernel\n",
    "\n",
    "from qiskit_machine_learning.algorithms import QSVC\n",
    "from qiskit.aqua.operators import StateFn, Z, ListOp\n",
    "\n",
    "\n",
    "from qiskit import QuantumCircuit, Aer\n",
    "from qiskit.aqua import QuantumInstance\n",
    "\n",
    "import matplotlib.pyplot as plt\n",
    "%matplotlib inline\n",
    "\n",
    "from functools import partial,reduce\n",
    "import numpy as np\n",
    "import copy\n",
    "from copy import deepcopy as dc"
   ]
  },
  {
   "cell_type": "markdown",
   "metadata": {},
   "source": [
    "# First Build a Parameterized Feature Map"
   ]
  },
  {
   "cell_type": "code",
   "execution_count": 70,
   "metadata": {},
   "outputs": [
    {
     "data": {
      "image/png": "[encoded data removed]",
      "text/plain": [
       "<Figure size 267.052x144.48 with 1 Axes>"
      ]
     },
     "execution_count": 70,
     "metadata": {},
     "output_type": "execute_result"
    }
   ],
   "source": [
    "# Define a (non-parameterized) feature map\n",
    "fm = ZZFeatureMap(2)\n",
    "input_params = fm.parameters\n",
    "fm.draw('mpl')"
   ]
  },
  {
   "cell_type": "code",
   "execution_count": 71,
   "metadata": {},
   "outputs": [
    {
     "data": {
      "image/png": "[encoded data removed]",
      "text/plain": [
       "<Figure size 387.452x144.48 with 1 Axes>"
      ]
     },
     "execution_count": 71,
     "metadata": {},
     "output_type": "execute_result"
    }
   ],
   "source": [
    "# Define a tunable sub-circuit\n",
    "W = QuantumCircuit(2)\n",
    "p1 = Parameter('p1')\n",
    "p2 = Parameter('p2')\n",
    "W.barrier()\n",
    "W.rx(p1, 1)\n",
    "W.h(1)\n",
    "W.crx(p2, 1, 0)\n",
    "W.barrier()\n",
    "W.draw(output='mpl')"
   ]
  },
  {
   "cell_type": "code",
   "execution_count": 72,
   "metadata": {},
   "outputs": [
    {
     "data": {
      "image/png": "[encoded data removed]",
      "text/plain": [
       "<Figure size 748.652x144.48 with 1 Axes>"
      ]
     },
     "execution_count": 72,
     "metadata": {},
     "output_type": "execute_result"
    }
   ],
   "source": [
    "# Compose them to build a parameterized feature map\n",
    "pfm = fm.compose(W).compose(fm)#.decompose()\n",
    "pfm.draw(output='mpl')"
   ]
  },
  {
   "cell_type": "markdown",
   "metadata": {},
   "source": [
    "# Build an Ad-hoc dataset"
   ]
  },
  {
   "cell_type": "code",
   "execution_count": 73,
   "metadata": {},
   "outputs": [],
   "source": [
    "N = 20\n",
    "X = np.random.rand(20,2)\n",
    "free_params = [p1,p2]\n",
    "true_free_vals = [0.4, 1.9]\n",
    "true_free_bindings = {p:v for (p,v) in zip(free_params, true_free_vals)}"
   ]
  },
  {
   "cell_type": "code",
   "execution_count": 74,
   "metadata": {},
   "outputs": [
    {
     "data": {
      "image/png": "[encoded data removed]",
      "text/plain": [
       "<Figure size 929.252x144.48 with 1 Axes>"
      ]
     },
     "execution_count": 74,
     "metadata": {},
     "output_type": "execute_result"
    }
   ],
   "source": [
    "# fm is no longer parameterized, because we have bound values to the free parameters\n",
    "fm = pfm.bind_parameters(true_free_bindings)\n",
    "fm.draw('mpl')"
   ]
  },
  {
   "cell_type": "code",
   "execution_count": 75,
   "metadata": {},
   "outputs": [],
   "source": []
  },
  {
   "cell_type": "code",
   "execution_count": 79,
   "metadata": {},
   "outputs": [],
   "source": [
    "# This expression is basically just encoding that after I prepare my feature state\n",
    "# I want to measure the Pauli Z observable on both qubits. \n",
    "fm_op = ~StateFn(Z^Z) @ StateFn(fm) \n",
    "\n",
    "# This operator will generate a number between [-1,+1] for each entry in X.\n",
    "# It is essentially looping over X, binding each entry of X to the \n",
    "# input parameters of our feature map. And it is doing this once for each\n",
    "# entry of X. So we end up with len(X) copies of our feature map, all with different\n",
    "# inputs bound to them.\n",
    "y_op = ListOp([fm_op.bind_parameters({p:v for (p,v) in zip(input_params, xi)}) for xi in X])"
   ]
  },
  {
   "cell_type": "code",
   "execution_count": 88,
   "metadata": {},
   "outputs": [
    {
     "name": "stdout",
     "output_type": "stream",
     "text": [
      "[ 1.  1.  1.  1.  1. -1.  1.  1. -1. -1.  1.  1. -1.  1. -1.  1.  1.  1.\n",
      "  1. -1.]\n"
     ]
    }
   ],
   "source": [
    "# These inner products are always real numbers, and we only really care\n",
    "# about taking their sign.\n",
    "y  = np.sign(np.real(y_op.eval()))\n",
    "print(y)"
   ]
  },
  {
   "cell_type": "code",
   "execution_count": 96,
   "metadata": {},
   "outputs": [
    {
     "name": "stdout",
     "output_type": "stream",
     "text": [
      "X =  [[0.87066548 0.23697428]\n",
      " [0.52364449 0.47706078]\n",
      " [0.32718564 0.51158733]\n",
      " [0.43386909 0.72681197]\n",
      " [0.59590169 0.34661481]\n",
      " [0.78407227 0.56597119]\n",
      " [0.70649154 0.04683843]\n",
      " [0.87202885 0.33911793]\n",
      " [0.51624376 0.1003674 ]\n",
      " [0.38034726 0.97704455]\n",
      " [0.20969548 0.65264124]\n",
      " [0.30453891 0.68698161]\n",
      " [0.3747999  0.36513099]\n",
      " [0.06393683 0.65391511]\n",
      " [0.06572619 0.97577677]\n",
      " [0.33144918 0.66283208]\n",
      " [0.37766754 0.73989033]\n",
      " [0.32389965 0.69802172]\n",
      " [0.21252023 0.91567623]\n",
      " [0.81769783 0.89928094]]\n",
      "y =  [ 1.  1.  1.  1.  1. -1.  1.  1. -1. -1.  1.  1. -1.  1. -1.  1.  1.  1.\n",
      "  1. -1.]\n"
     ]
    }
   ],
   "source": [
    "print('X = ', X)\n",
    "print('y = ', y)"
   ]
  },
  {
   "cell_type": "code",
   "execution_count": 105,
   "metadata": {},
   "outputs": [
    {
     "data": {
      "text/html": [
       "<pre style=\"word-wrap: normal;white-space: pre;background: #fff0;line-height: 1.1;font-family: &quot;Courier New&quot;,Courier,monospace\">     ┌───┐┌─────────────┐                                          ┌───┐»\n",
       "q_0: ┤ H ├┤ P(2.0*x[0]) ├──■────────────────────────────────────■──┤ H ├»\n",
       "     ├───┤├─────────────┤┌─┴─┐┌──────────────────────────────┐┌─┴─┐├───┤»\n",
       "q_1: ┤ H ├┤ P(2.0*x[1]) ├┤ X ├┤ P(2.0*(π - x[0])*(π - x[1])) ├┤ X ├┤ H ├»\n",
       "     └───┘└─────────────┘└───┘└──────────────────────────────┘└───┘└───┘»\n",
       "«     ┌─────────────┐                                           ░ ┌─────────┐»\n",
       "«q_0: ┤ P(2.0*x[0]) ├──■────────────────────────────────────■───░─┤ U1(π/2) ├»\n",
       "«     ├─────────────┤┌─┴─┐┌──────────────────────────────┐┌─┴─┐ ░ ├─────────┤»\n",
       "«q_1: ┤ P(2.0*x[1]) ├┤ X ├┤ P(2.0*(π - x[0])*(π - x[1])) ├┤ X ├─░─┤ R(p1,0) ├»\n",
       "«     └─────────────┘└───┘└──────────────────────────────┘└───┘ ░ └─────────┘»\n",
       "«                ┌───┐┌─────────────────┐┌───┐┌─────────────────┐ ░ ┌───┐»\n",
       "«q_0: ───────────┤ X ├┤ U3(-0.5*p2,0,0) ├┤ X ├┤ U3(p2/2,-π/2,0) ├─░─┤ H ├»\n",
       "«     ┌─────────┐└─┬─┘└─────────────────┘└─┬─┘└─────────────────┘ ░ ├───┤»\n",
       "«q_1: ┤ U2(0,π) ├──■───────────────────────■──────────────────────░─┤ H ├»\n",
       "«     └─────────┘                                                 ░ └───┘»\n",
       "«     ┌─────────────┐                                          ┌───┐»\n",
       "«q_0: ┤ P(2.0*x[0]) ├──■────────────────────────────────────■──┤ H ├»\n",
       "«     ├─────────────┤┌─┴─┐┌──────────────────────────────┐┌─┴─┐├───┤»\n",
       "«q_1: ┤ P(2.0*x[1]) ├┤ X ├┤ P(2.0*(π - x[0])*(π - x[1])) ├┤ X ├┤ H ├»\n",
       "«     └─────────────┘└───┘└──────────────────────────────┘└───┘└───┘»\n",
       "«     ┌─────────────┐                                          \n",
       "«q_0: ┤ P(2.0*x[0]) ├──■────────────────────────────────────■──\n",
       "«     ├─────────────┤┌─┴─┐┌──────────────────────────────┐┌─┴─┐\n",
       "«q_1: ┤ P(2.0*x[1]) ├┤ X ├┤ P(2.0*(π - x[0])*(π - x[1])) ├┤ X ├\n",
       "«     └─────────────┘└───┘└──────────────────────────────┘└───┘</pre>"
      ],
      "text/plain": [
       "     ┌───┐┌─────────────┐                                          ┌───┐»\n",
       "q_0: ┤ H ├┤ P(2.0*x[0]) ├──■────────────────────────────────────■──┤ H ├»\n",
       "     ├───┤├─────────────┤┌─┴─┐┌──────────────────────────────┐┌─┴─┐├───┤»\n",
       "q_1: ┤ H ├┤ P(2.0*x[1]) ├┤ X ├┤ P(2.0*(π - x[0])*(π - x[1])) ├┤ X ├┤ H ├»\n",
       "     └───┘└─────────────┘└───┘└──────────────────────────────┘└───┘└───┘»\n",
       "«     ┌─────────────┐                                           ░ ┌─────────┐»\n",
       "«q_0: ┤ P(2.0*x[0]) ├──■────────────────────────────────────■───░─┤ U1(π/2) ├»\n",
       "«     ├─────────────┤┌─┴─┐┌──────────────────────────────┐┌─┴─┐ ░ ├─────────┤»\n",
       "«q_1: ┤ P(2.0*x[1]) ├┤ X ├┤ P(2.0*(π - x[0])*(π - x[1])) ├┤ X ├─░─┤ R(p1,0) ├»\n",
       "«     └─────────────┘└───┘└──────────────────────────────┘└───┘ ░ └─────────┘»\n",
       "«                ┌───┐┌─────────────────┐┌───┐┌─────────────────┐ ░ ┌───┐»\n",
       "«q_0: ───────────┤ X ├┤ U3(-0.5*p2,0,0) ├┤ X ├┤ U3(p2/2,-π/2,0) ├─░─┤ H ├»\n",
       "«     ┌─────────┐└─┬─┘└─────────────────┘└─┬─┘└─────────────────┘ ░ ├───┤»\n",
       "«q_1: ┤ U2(0,π) ├──■───────────────────────■──────────────────────░─┤ H ├»\n",
       "«     └─────────┘                                                 ░ └───┘»\n",
       "«     ┌─────────────┐                                          ┌───┐»\n",
       "«q_0: ┤ P(2.0*x[0]) ├──■────────────────────────────────────■──┤ H ├»\n",
       "«     ├─────────────┤┌─┴─┐┌──────────────────────────────┐┌─┴─┐├───┤»\n",
       "«q_1: ┤ P(2.0*x[1]) ├┤ X ├┤ P(2.0*(π - x[0])*(π - x[1])) ├┤ X ├┤ H ├»\n",
       "«     └─────────────┘└───┘└──────────────────────────────┘└───┘└───┘»\n",
       "«     ┌─────────────┐                                          \n",
       "«q_0: ┤ P(2.0*x[0]) ├──■────────────────────────────────────■──\n",
       "«     ├─────────────┤┌─┴─┐┌──────────────────────────────┐┌─┴─┐\n",
       "«q_1: ┤ P(2.0*x[1]) ├┤ X ├┤ P(2.0*(π - x[0])*(π - x[1])) ├┤ X ├\n",
       "«     └─────────────┘└───┘└──────────────────────────────┘└───┘"
      ]
     },
     "execution_count": 105,
     "metadata": {},
     "output_type": "execute_result"
    }
   ],
   "source": [
    "pfm.decompose().draw()"
   ]
  },
  {
   "cell_type": "code",
   "execution_count": 103,
   "metadata": {},
   "outputs": [
    {
     "data": {
      "text/plain": [
       "ParameterView([Parameter(p1), Parameter(p2), ParameterVectorElement(x[0]), ParameterVectorElement(x[1])])"
      ]
     },
     "execution_count": 103,
     "metadata": {},
     "output_type": "execute_result"
    }
   ],
   "source": [
    "pfm.parameters"
   ]
  },
  {
   "cell_type": "code",
   "execution_count": 106,
   "metadata": {},
   "outputs": [],
   "source": [
    "free_params = [p1,p2]\n",
    "true_free_vals = [0.4, 1.9]\n",
    "true_free_bindings = {p:v for (p,v) in zip(free_params, true_free_vals)}"
   ]
  },
  {
   "cell_type": "code",
   "execution_count": 107,
   "metadata": {},
   "outputs": [],
   "source": [
    "fm = pfm.bind_parameters(true_free_bindings)\n"
   ]
  },
  {
   "cell_type": "code",
   "execution_count": 110,
   "metadata": {},
   "outputs": [
    {
     "name": "stdout",
     "output_type": "stream",
     "text": [
      "ParameterView([ParameterVectorElement(x[0]), ParameterVectorElement(x[1])])\n"
     ]
    }
   ],
   "source": [
    "print(fm.parameters)"
   ]
  },
  {
   "cell_type": "code",
   "execution_count": 112,
   "metadata": {},
   "outputs": [
    {
     "ename": "NameError",
     "evalue": "name 'n_qubits' is not defined",
     "output_type": "error",
     "traceback": [
      "\u001b[0;31m---------------------------------------------------------------------------\u001b[0m",
      "\u001b[0;31mNameError\u001b[0m                                 Traceback (most recent call last)",
      "\u001b[0;32m<ipython-input-112-09d412d2cb11>\u001b[0m in \u001b[0;36m<module>\u001b[0;34m\u001b[0m\n\u001b[0;32m----> 1\u001b[0;31m \u001b[0mfm\u001b[0m \u001b[0;34m=\u001b[0m \u001b[0mQuantumCircuit\u001b[0m\u001b[0;34m(\u001b[0m\u001b[0mn_qubits\u001b[0m\u001b[0;34m)\u001b[0m\u001b[0;34m\u001b[0m\u001b[0;34m\u001b[0m\u001b[0m\n\u001b[0m\u001b[1;32m      2\u001b[0m \u001b[0;34m\u001b[0m\u001b[0m\n\u001b[1;32m      3\u001b[0m \u001b[0;34m\u001b[0m\u001b[0m\n\u001b[1;32m      4\u001b[0m \u001b[0;34m\u001b[0m\u001b[0m\n\u001b[1;32m      5\u001b[0m \u001b[0;31m# Future Usage\u001b[0m\u001b[0;34m\u001b[0m\u001b[0;34m\u001b[0m\u001b[0;34m\u001b[0m\u001b[0m\n",
      "\u001b[0;31mNameError\u001b[0m: name 'n_qubits' is not defined"
     ]
    }
   ],
   "source": [
    "fm = QuantumCircuit(n_qubits)\n",
    "...\n",
    "...\n",
    "\n",
    "# Future Usage\n",
    "#--------------\n",
    "fm = CovariantFeatureMap(n_qubits)\n",
    "free_params = fm.free_params\n",
    "input_params = fm.inputs_params\n",
    "\n",
    "#---\n",
    "assert input_params + free_params == fm.parameters\n",
    "\n",
    "\n",
    "pqk = PQK(fm, free_params)"
   ]
  },
  {
   "cell_type": "code",
   "execution_count": null,
   "metadata": {},
   "outputs": [],
   "source": []
  }
 ],
 "metadata": {
  "kernelspec": {
   "display_name": "Python 3",
   "language": "python",
   "name": "python3"
  },
  "language_info": {
   "codemirror_mode": {
    "name": "ipython",
    "version": 3
   },
   "file_extension": ".py",
   "mimetype": "text/x-python",
   "name": "python",
   "nbconvert_exporter": "python",
   "pygments_lexer": "ipython3",
   "version": "3.7.3"
  }
 },
 "nbformat": 4,
 "nbformat_minor": 2
}

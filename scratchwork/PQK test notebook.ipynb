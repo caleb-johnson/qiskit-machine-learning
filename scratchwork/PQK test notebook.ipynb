{
 "cells": [
  {
   "cell_type": "code",
   "execution_count": 1,
   "metadata": {},
   "outputs": [
    {
     "name": "stderr",
     "output_type": "stream",
     "text": [
      "/Users/brycefuller/anaconda3/lib/python3.7/site-packages/qiskit/aqua/operators/operator_globals.py:48: DeprecationWarning: `from_label` is deprecated and will be removed no earlier than 3 months after the release date. Use Pauli(label) instead.\n",
      "  X = make_immutable(PrimitiveOp(Pauli.from_label('X')))\n"
     ]
    }
   ],
   "source": [
    "import numpy as np\n",
    "import pandas as pd\n",
    "import qiskit\n",
    "import qiskit_machine_learning as qml\n",
    "from qiskit.algorithms.optimizers import SPSA, SLSQP, COBYLA, SNOBFIT\n",
    "from qiskit.circuit import Parameter, ParameterExpression, ParameterVector\n",
    "from qiskit.circuit.library import ZZFeatureMap\n",
    "from qiskit_machine_learning.kernels.parameterized_quantum_kernel import ParamQuantumKernel\n",
    "from qiskit_machine_learning.kernels import QuantumKernel\n",
    "\n",
    "from qiskit_machine_learning.algorithms import QSVC\n",
    "\n",
    "\n",
    "from qiskit import QuantumCircuit, Aer\n",
    "from qiskit.aqua import QuantumInstance\n",
    "\n",
    "import matplotlib.pyplot as plt\n",
    "import matplotlib.colors as cm\n",
    "%matplotlib inline\n",
    "\n",
    "from functools import partial,reduce\n",
    "import numpy as np\n",
    "import copy\n",
    "from copy import deepcopy as dc"
   ]
  },
  {
   "cell_type": "code",
   "execution_count": null,
   "metadata": {},
   "outputs": [],
   "source": [
    "def std_align(params, PQK=None, x_vec=None, y_vec=None):\n",
    "    assert PQK is not None\n",
    "    assert x_vec is not None\n",
    "    assert y_vec is not None\n",
    "    \n",
    "    # check that params are the right dimension\n",
    "    PQK.bind_free_params(params)\n",
    "    K = PQK.evaluate(x_vec)\n",
    "    y = np.array(y_vec)\n",
    "    \n",
    "    # The -1 is here because qiskit \n",
    "    # optimizers minimize by default\n",
    "    return -1 * y.T @ K @ y\n",
    "\n",
    "def model_complexity(params, PQK=None, x_vec=None, y_vec=None):\n",
    "    assert PQK is not None\n",
    "    assert x_vec is not None\n",
    "    assert y_vec is not None\n",
    "    \n",
    "    # check that params are the right dimension\n",
    "    PQK.bind_free_params(params)\n",
    "    K = PQK.evaluate(x_vec)\n",
    "    y = np.array(y_vec)\n",
    "    \n",
    "    # The -1 is here because qiskit \n",
    "    # optimizers minimize by default\n",
    "    return -1 * y.T @ np.linalg.pinv(K) @ y"
   ]
  },
  {
   "cell_type": "markdown",
   "metadata": {},
   "source": [
    "# Define a Toy Feature Map\n",
    "### Note that we sandwich the ZZ Feature Map $U({x})$ around our tunable element $W(\\theta)$. \n",
    "### Our resulting parameterized feature map is then: \n",
    "### $$\\Phi_\\theta(x) = U({x})W(\\theta)U({x})$$\n"
   ]
  },
  {
   "cell_type": "markdown",
   "metadata": {},
   "source": [
    "- look into sklearn pipelines "
   ]
  },
  {
   "cell_type": "code",
   "execution_count": 2,
   "metadata": {},
   "outputs": [
    {
     "data": {
      "image/png": "[encoded data removed]",
      "text/plain": [
       "<Figure size 628.252x144.48 with 1 Axes>"
      ]
     },
     "execution_count": 2,
     "metadata": {},
     "output_type": "execute_result"
    }
   ],
   "source": [
    "\n",
    "# Define a (non-parameterized) feature map\n",
    "fm = ZZFeatureMap(2)\n",
    "input_params = fm.parameters\n",
    "\n",
    "\"\"\"\n",
    "# Define a tunable sub-circuit\n",
    "W = QuantumCircuit(2)\n",
    "free_params = ParameterVector('θ', 2)\n",
    "W.barrier()\n",
    "W.rx(free_params[0], 1)\n",
    "W.h(1)\n",
    "W.crx(free_params[1], 1, 0)\n",
    "W.barrier()\n",
    "\n",
    "# Compose them to build a parameterized feature map\n",
    "pfm = fm.compose(W).compose(fm)\n",
    "pfm.draw(output='mpl')\n",
    "\n",
    "\"\"\"\n",
    "# Define a tunable sub-circuit\n",
    "W = QuantumCircuit(2)\n",
    "free_params = ParameterVector('θ', 2)\n",
    "W.barrier()\n",
    "W.rx(free_params[0], 1)\n",
    "W.h(1)\n",
    "W.crx(free_params[1], 1, 0)\n",
    "W.barrier()\n",
    "\n",
    "W = ZZFeatureMap(2, )\n",
    "free_params = W.parameters\n",
    "for i in range(len(free_params)):\n",
    "    free_params[i]._name = 'θ[{}]'.format(i)\n",
    "\n",
    "# Compose them to build a parameterized feature map\n",
    "pfm = fm.compose(W).compose(fm)#.decompose()\n",
    "pfm.draw(output='mpl')\n",
    "#\"\"\""
   ]
  },
  {
   "cell_type": "markdown",
   "metadata": {},
   "source": [
    "# Load in a Toy Dataset\n",
    "See `Generate Test Dataset.ipynb` for details on how this dataset was constructed"
   ]
  },
  {
   "cell_type": "code",
   "execution_count": 3,
   "metadata": {},
   "outputs": [],
   "source": [
    "# This dataset was created to be perfectly separable with the parameterized feature map \n",
    "# specified below. Perfect separability occurs when free_params = [0.4, 1.9]\n",
    "X =  np.array([[0.8706654792362811,  0.2369742757376293], [0.5236444947461981,  0.47706078258840867],\n",
    "               [0.32718563532890166, 0.5115873322128263], [0.43386908952550884, 0.7268119714452476],\n",
    "               [0.5959016911155639,  0.34661481471692046],[0.7064915357994602,  0.04683842708096886],\n",
    "               [0.8720288508400597,  0.3391179272755003], [0.20969548243722935, 0.6526412363347083],\n",
    "               [0.30453891143802225, 0.6869816088228596], [0.06393682681335267, 0.6539151117867389],\n",
    "               [0.33144917572376775, 0.6628320750526255], [0.377667541739669,   0.7398903275013423],\n",
    "               [0.3238996455451548,  0.6980217247056245], [0.21252022637269152, 0.9156762288662499],\n",
    "               [0.784072270815886,   0.56597118587358],   [0.5162437571367566,  0.10036739611370471],\n",
    "               [0.38034726220142634, 0.977044551667746],  [0.3747999018613254,  0.3651309902912411],\n",
    "               [0.06572618538859043, 0.9757767726065338], [0.8176978256864683,  0.8992809375698265]])\n",
    "\n",
    "y =  np.array([1.0, 1.0, 1.0, 1.0, 1.0, 1.0, 1.0, 1.0, 1.0, 1.0, 1.0, \n",
    "               1.0, 1.0, 1.0, -1.0, -1.0, -1.0, -1.0, -1.0, -1.0])"
   ]
  },
  {
   "cell_type": "code",
   "execution_count": 4,
   "metadata": {},
   "outputs": [],
   "source": [
    "y = np.array([ 1.,  1.,  1.,  1.,  1., -1., -1.,  1.,  1.,  1., -1., -1.,  1.,\n",
    "        1.,  1.,  1., -1., -1., -1.,  1.])\n",
    "X = np.array([[0.24454073410898491, 0.031012938811814772],\n",
    " [0.15729723854472633, 0.7771822300844446],\n",
    " [0.7108284468216548, 0.1894054901931822],\n",
    " [0.22150210121369418, 0.005694881230791093],\n",
    " [0.22271372771505904, 0.8015695630814424],\n",
    " [0.20765557949660574, 0.39924467912560047],\n",
    " [0.4527791328642101, 0.2443531076263249],\n",
    " [0.9491652757796688, 0.03879299346053222],\n",
    " [0.13651516478509684, 0.6818473574803955],\n",
    " [0.03923793993639102, 0.25349832871562294],\n",
    " [0.3036545701526323, 0.2504910407578973],\n",
    " [0.20298849297019894, 0.40999257495837094],\n",
    " [0.689720552907621, 0.3006912349622771],\n",
    " [0.09872532648444432, 0.08452522097652959],\n",
    " [0.0018661159252205684, 0.21701814845269307],\n",
    " [0.07209175613676211, 0.8825548774902298],\n",
    " [0.006499324077934632, 0.5067728182164672],\n",
    " [0.425773895955486, 0.1275224534379158],\n",
    " [0.15774990481285356, 0.4685387613882338],\n",
    " [0.17021331958034303, 0.6604169564060065]])"
   ]
  },
  {
   "cell_type": "code",
   "execution_count": 5,
   "metadata": {},
   "outputs": [],
   "source": [
    "X = np.array([[0.9567612067697236, 0.29073480898094595], [0.5346295164276453, 0.28314590337282675], [0.4505164537165349, 0.1348844084345856], [0.717095964284348, 0.6926539694817647], [0.6899904242073004, 0.11894254875732169], [0.9331929543471993, 0.1710356466941273], [0.9465065903873696, 0.08866785584134762], [0.020821616675430255, 0.795816864607097], [0.11396873060321688, 0.597495651509774], [0.43382947964712637, 0.015927416849493836], [0.9442809322211615, 0.9895496473858371], [0.04664013387835264, 0.2098641515156191], [0.8170482966873857, 0.12136924758892997], [0.8674239716401573, 0.9695260771109943], [0.7819845649388245, 0.36615922941017176], [0.2616107759284595, 0.7224424998541275], [0.9370643995995782, 0.6308179906118104], [0.5942319745353428, 0.6530442138654083], [0.699064828319063, 0.5601537947326779], [0.0705901741870586, 0.2036948590213834]])\n",
    "y = np.array([-1.0, -1.0, -1.0, -1.0, -1.0, -1.0, -1.0, -1.0, -1.0, -1.0, -1.0, 1.0, -1.0, -1.0, -1.0, -1.0, 1.0, 1.0, -1.0, -1.0])\n"
   ]
  },
  {
   "cell_type": "code",
   "execution_count": 6,
   "metadata": {},
   "outputs": [],
   "source": [
    "\n",
    "\n",
    "def weighted_align(params, \n",
    "                   PQK=None, \n",
    "                   x_vec=None, \n",
    "                   y_vec=None):\n",
    "    assert PQK is not None\n",
    "    assert x_vec is not None\n",
    "    assert y_vec is not None\n",
    "    from qiskit_machine_learning.algorithms import QSVC    \n",
    "    \n",
    "    # check that params are the right dimension\n",
    "    PQK.bind_free_params(params)\n",
    "    \n",
    "    qsvc = QSVC(quantum_kernel = PQK)\n",
    "    qsvc.fit(x_vec, y_vec)\n",
    "    score = qsvc.score(x_vec, y_vec)\n",
    "\n",
    "    # The dual coefficients are equal\n",
    "    # to the Lagrange multipliers, termwise\n",
    "    # multiplied by the corresponding datapoint's \n",
    "    # label. Only nonzero coefficients are returned\n",
    "    a = qsvc.dual_coef_[0]\n",
    "    # Get the indices of our data which correspond to\n",
    "    # support vectors\n",
    "    sv = qsvc.support_\n",
    "    #Filter out entries for non-support vectors\n",
    "    K = PQK.evaluate(x_vec)[sv,:][:,sv]\n",
    "\n",
    "    # The -1 is here because qiskit \n",
    "    # optimizers minimize by default\n",
    "    return np.sum(np.abs(a)) - 1/2 * (a.T @ K @ a) "
   ]
  },
  {
   "cell_type": "markdown",
   "metadata": {},
   "source": [
    "# Re-do with a different feature map + dataset"
   ]
  },
  {
   "cell_type": "code",
   "execution_count": 8,
   "metadata": {
    "scrolled": true
   },
   "outputs": [
    {
     "name": "stderr",
     "output_type": "stream",
     "text": [
      "/Users/brycefuller/anaconda3/lib/python3.7/site-packages/qiskit/providers/aer/aerjob.py:56: DeprecationWarning: The BaseJob abstract interface is deprecated as of the 0.18.0 release and will be removed in a future release. Instead you should build your backends using the JobV1 abstract class (which is the current latest version of the backend interface)\n",
      "  super().__init__(backend, job_id)\n"
     ]
    },
    {
     "name": "stdout",
     "output_type": "stream",
     "text": [
      "3\n",
      "6\n",
      "9\n",
      "12\n",
      "15\n",
      "18\n",
      "21\n",
      "24\n",
      "27\n",
      "30\n",
      "33\n",
      "36\n",
      "39\n",
      "42\n",
      "45\n",
      "48\n",
      "51\n",
      "54\n",
      "57\n",
      "60\n",
      "63\n",
      "66\n",
      "69\n",
      "72\n",
      "75\n"
     ]
    },
    {
     "data": {
      "text/plain": [
       "{'_optimizer_evals': 75,\n",
       " '_optimizer_time': 99.19573211669922,\n",
       " '_optimal_value': -1159.3440005437528,\n",
       " '_optimal_point': array([-20.40583184,  -7.75441224]),\n",
       " '_optimal_parameters': {ParameterVectorElement(θ[0]): -20.405831835444353,\n",
       "  ParameterVectorElement(θ[1]): -7.754412240519862}}"
      ]
     },
     "execution_count": 8,
     "metadata": {},
     "output_type": "execute_result"
    }
   ],
   "source": [
    "# instantiate a simulator backend\n",
    "qi = QuantumInstance(backend=Aer.get_backend('statevector_simulator'))\n",
    "\n",
    "# Define my parameterized Kernel\n",
    "pqk = ParamQuantumKernel(pfm, input_params, free_params, quantum_instance=qi)\n",
    "\n",
    "# Bind neccesary inputs to objective_function, such that it\n",
    "# has `f(free_param_values) = real-scalar` usage.\n",
    "#alignment = partial(std_align, PQK=pqk, x_vec=X, y_vec=y)\n",
    "alignment = partial(weighted_align, PQK=pqk, x_vec=X, y_vec=y)\n",
    "\n",
    "def wrapped_align(params):\n",
    "    alignment(params, pqk, x_vec, y_vec)\n",
    "\n",
    "\n",
    "cb_results_hist = []\n",
    "cb_results = [[],[],[],[],[]]\n",
    "def callback(x0,x1=None,x2=None,x3=None,x4=None):\n",
    "    print(x0)\n",
    "    cb_results[0].append(x0)\n",
    "    cb_results[1].append(x1)\n",
    "    cb_results[2].append(x2)\n",
    "    cb_results[3].append(x3)\n",
    "    cb_results[4].append(x4)\n",
    "    \n",
    "# instantiate an optimizer\n",
    "optimizer = SPSA(maxiter = 25, callback=callback)\n",
    "#optimizer = SLSQP(maxiter = 10, callback=callback)\n",
    "cb_results_hist.append(cb_results)\n",
    "\n",
    "# do kernel alignment\n",
    "results = pqk.train_kernel(objective_function='model_complexity', \n",
    "                           optimizer=optimizer,\n",
    "                           bounds=[[0,2*np.pi],[0,2*np.pi]],\n",
    "                           x_vec=X,\n",
    "                           y_vec=y)\n",
    "\n",
    "results.__dict__"
   ]
  },
  {
   "cell_type": "code",
   "execution_count": 8,
   "metadata": {},
   "outputs": [
    {
     "name": "stderr",
     "output_type": "stream",
     "text": [
      "/Users/brycefuller/anaconda3/lib/python3.7/site-packages/qiskit/providers/aer/aerprovider.py:30: DeprecationWarning: The BaseProvider abstract interface is deprecated as of the 0.18.0 release and will be removed in a future release. Instead you should build your backends using the ProviderV1 abstract class (which is the current latest version of the provider interface).\n",
      "  super().__init__(args, kwargs)\n",
      "/Users/brycefuller/anaconda3/lib/python3.7/site-packages/qiskit/providers/aer/backends/aerbackend.py:87: DeprecationWarning: The BaseBackend abstract interface is deprecated as of the 0.18.0 release and will be removed in a future release. Instead you should build your backends using the BackendV1 abstract class (which is the current latest version of the backend interface)\n",
      "  super().__init__(configuration, provider=provider)\n",
      "/Users/brycefuller/anaconda3/lib/python3.7/site-packages/qiskit/providers/aer/aerjob.py:56: DeprecationWarning: The BaseJob abstract interface is deprecated as of the 0.18.0 release and will be removed in a future release. Instead you should build your backends using the JobV1 abstract class (which is the current latest version of the backend interface)\n",
      "  super().__init__(backend, job_id)\n"
     ]
    },
    {
     "ename": "RuntimeError",
     "evalue": "scikit-learn estimators should always specify their parameters in the signature of their __init__ (no varargs). <class 'qiskit_machine_learning.algorithms.classifiers.qsvc.QSVC'> with constructor (self, *args, quantum_kernel: Union[qiskit_machine_learning.kernels.quantum_kernel.QuantumKernel, NoneType] = None, **kwargs) doesn't  follow this convention.",
     "output_type": "error",
     "traceback": [
      "\u001b[0;31m---------------------------------------------------------------------------\u001b[0m",
      "\u001b[0;31mRuntimeError\u001b[0m                              Traceback (most recent call last)",
      "\u001b[0;32m~/anaconda3/lib/python3.7/site-packages/IPython/core/formatters.py\u001b[0m in \u001b[0;36m__call__\u001b[0;34m(self, obj)\u001b[0m\n\u001b[1;32m    700\u001b[0m                 \u001b[0mtype_pprinters\u001b[0m\u001b[0;34m=\u001b[0m\u001b[0mself\u001b[0m\u001b[0;34m.\u001b[0m\u001b[0mtype_printers\u001b[0m\u001b[0;34m,\u001b[0m\u001b[0;34m\u001b[0m\u001b[0;34m\u001b[0m\u001b[0m\n\u001b[1;32m    701\u001b[0m                 deferred_pprinters=self.deferred_printers)\n\u001b[0;32m--> 702\u001b[0;31m             \u001b[0mprinter\u001b[0m\u001b[0;34m.\u001b[0m\u001b[0mpretty\u001b[0m\u001b[0;34m(\u001b[0m\u001b[0mobj\u001b[0m\u001b[0;34m)\u001b[0m\u001b[0;34m\u001b[0m\u001b[0;34m\u001b[0m\u001b[0m\n\u001b[0m\u001b[1;32m    703\u001b[0m             \u001b[0mprinter\u001b[0m\u001b[0;34m.\u001b[0m\u001b[0mflush\u001b[0m\u001b[0;34m(\u001b[0m\u001b[0;34m)\u001b[0m\u001b[0;34m\u001b[0m\u001b[0;34m\u001b[0m\u001b[0m\n\u001b[1;32m    704\u001b[0m             \u001b[0;32mreturn\u001b[0m \u001b[0mstream\u001b[0m\u001b[0;34m.\u001b[0m\u001b[0mgetvalue\u001b[0m\u001b[0;34m(\u001b[0m\u001b[0;34m)\u001b[0m\u001b[0;34m\u001b[0m\u001b[0;34m\u001b[0m\u001b[0m\n",
      "\u001b[0;32m~/anaconda3/lib/python3.7/site-packages/IPython/lib/pretty.py\u001b[0m in \u001b[0;36mpretty\u001b[0;34m(self, obj)\u001b[0m\n\u001b[1;32m    400\u001b[0m                         \u001b[0;32mif\u001b[0m \u001b[0mcls\u001b[0m \u001b[0;32mis\u001b[0m \u001b[0;32mnot\u001b[0m \u001b[0mobject\u001b[0m\u001b[0;31m \u001b[0m\u001b[0;31m\\\u001b[0m\u001b[0;34m\u001b[0m\u001b[0;34m\u001b[0m\u001b[0m\n\u001b[1;32m    401\u001b[0m                                 \u001b[0;32mand\u001b[0m \u001b[0mcallable\u001b[0m\u001b[0;34m(\u001b[0m\u001b[0mcls\u001b[0m\u001b[0;34m.\u001b[0m\u001b[0m__dict__\u001b[0m\u001b[0;34m.\u001b[0m\u001b[0mget\u001b[0m\u001b[0;34m(\u001b[0m\u001b[0;34m'__repr__'\u001b[0m\u001b[0;34m)\u001b[0m\u001b[0;34m)\u001b[0m\u001b[0;34m:\u001b[0m\u001b[0;34m\u001b[0m\u001b[0;34m\u001b[0m\u001b[0m\n\u001b[0;32m--> 402\u001b[0;31m                             \u001b[0;32mreturn\u001b[0m \u001b[0m_repr_pprint\u001b[0m\u001b[0;34m(\u001b[0m\u001b[0mobj\u001b[0m\u001b[0;34m,\u001b[0m \u001b[0mself\u001b[0m\u001b[0;34m,\u001b[0m \u001b[0mcycle\u001b[0m\u001b[0;34m)\u001b[0m\u001b[0;34m\u001b[0m\u001b[0;34m\u001b[0m\u001b[0m\n\u001b[0m\u001b[1;32m    403\u001b[0m \u001b[0;34m\u001b[0m\u001b[0m\n\u001b[1;32m    404\u001b[0m             \u001b[0;32mreturn\u001b[0m \u001b[0m_default_pprint\u001b[0m\u001b[0;34m(\u001b[0m\u001b[0mobj\u001b[0m\u001b[0;34m,\u001b[0m \u001b[0mself\u001b[0m\u001b[0;34m,\u001b[0m \u001b[0mcycle\u001b[0m\u001b[0;34m)\u001b[0m\u001b[0;34m\u001b[0m\u001b[0;34m\u001b[0m\u001b[0m\n",
      "\u001b[0;32m~/anaconda3/lib/python3.7/site-packages/IPython/lib/pretty.py\u001b[0m in \u001b[0;36m_repr_pprint\u001b[0;34m(obj, p, cycle)\u001b[0m\n\u001b[1;32m    695\u001b[0m     \u001b[0;34m\"\"\"A pprint that just redirects to the normal repr function.\"\"\"\u001b[0m\u001b[0;34m\u001b[0m\u001b[0;34m\u001b[0m\u001b[0m\n\u001b[1;32m    696\u001b[0m     \u001b[0;31m# Find newlines and replace them with p.break_()\u001b[0m\u001b[0;34m\u001b[0m\u001b[0;34m\u001b[0m\u001b[0;34m\u001b[0m\u001b[0m\n\u001b[0;32m--> 697\u001b[0;31m     \u001b[0moutput\u001b[0m \u001b[0;34m=\u001b[0m \u001b[0mrepr\u001b[0m\u001b[0;34m(\u001b[0m\u001b[0mobj\u001b[0m\u001b[0;34m)\u001b[0m\u001b[0;34m\u001b[0m\u001b[0;34m\u001b[0m\u001b[0m\n\u001b[0m\u001b[1;32m    698\u001b[0m     \u001b[0;32mfor\u001b[0m \u001b[0midx\u001b[0m\u001b[0;34m,\u001b[0m\u001b[0moutput_line\u001b[0m \u001b[0;32min\u001b[0m \u001b[0menumerate\u001b[0m\u001b[0;34m(\u001b[0m\u001b[0moutput\u001b[0m\u001b[0;34m.\u001b[0m\u001b[0msplitlines\u001b[0m\u001b[0;34m(\u001b[0m\u001b[0;34m)\u001b[0m\u001b[0;34m)\u001b[0m\u001b[0;34m:\u001b[0m\u001b[0;34m\u001b[0m\u001b[0;34m\u001b[0m\u001b[0m\n\u001b[1;32m    699\u001b[0m         \u001b[0;32mif\u001b[0m \u001b[0midx\u001b[0m\u001b[0;34m:\u001b[0m\u001b[0;34m\u001b[0m\u001b[0;34m\u001b[0m\u001b[0m\n",
      "\u001b[0;32m~/anaconda3/lib/python3.7/site-packages/sklearn/base.py\u001b[0m in \u001b[0;36m__repr__\u001b[0;34m(self, N_CHAR_MAX)\u001b[0m\n\u001b[1;32m    249\u001b[0m             n_max_elements_to_show=N_MAX_ELEMENTS_TO_SHOW)\n\u001b[1;32m    250\u001b[0m \u001b[0;34m\u001b[0m\u001b[0m\n\u001b[0;32m--> 251\u001b[0;31m         \u001b[0mrepr_\u001b[0m \u001b[0;34m=\u001b[0m \u001b[0mpp\u001b[0m\u001b[0;34m.\u001b[0m\u001b[0mpformat\u001b[0m\u001b[0;34m(\u001b[0m\u001b[0mself\u001b[0m\u001b[0;34m)\u001b[0m\u001b[0;34m\u001b[0m\u001b[0;34m\u001b[0m\u001b[0m\n\u001b[0m\u001b[1;32m    252\u001b[0m \u001b[0;34m\u001b[0m\u001b[0m\n\u001b[1;32m    253\u001b[0m         \u001b[0;31m# Use bruteforce ellipsis when there are a lot of non-blank characters\u001b[0m\u001b[0;34m\u001b[0m\u001b[0;34m\u001b[0m\u001b[0;34m\u001b[0m\u001b[0m\n",
      "\u001b[0;32m~/anaconda3/lib/python3.7/pprint.py\u001b[0m in \u001b[0;36mpformat\u001b[0;34m(self, object)\u001b[0m\n\u001b[1;32m    142\u001b[0m     \u001b[0;32mdef\u001b[0m \u001b[0mpformat\u001b[0m\u001b[0;34m(\u001b[0m\u001b[0mself\u001b[0m\u001b[0;34m,\u001b[0m \u001b[0mobject\u001b[0m\u001b[0;34m)\u001b[0m\u001b[0;34m:\u001b[0m\u001b[0;34m\u001b[0m\u001b[0;34m\u001b[0m\u001b[0m\n\u001b[1;32m    143\u001b[0m         \u001b[0msio\u001b[0m \u001b[0;34m=\u001b[0m \u001b[0m_StringIO\u001b[0m\u001b[0;34m(\u001b[0m\u001b[0;34m)\u001b[0m\u001b[0;34m\u001b[0m\u001b[0;34m\u001b[0m\u001b[0m\n\u001b[0;32m--> 144\u001b[0;31m         \u001b[0mself\u001b[0m\u001b[0;34m.\u001b[0m\u001b[0m_format\u001b[0m\u001b[0;34m(\u001b[0m\u001b[0mobject\u001b[0m\u001b[0;34m,\u001b[0m \u001b[0msio\u001b[0m\u001b[0;34m,\u001b[0m \u001b[0;36m0\u001b[0m\u001b[0;34m,\u001b[0m \u001b[0;36m0\u001b[0m\u001b[0;34m,\u001b[0m \u001b[0;34m{\u001b[0m\u001b[0;34m}\u001b[0m\u001b[0;34m,\u001b[0m \u001b[0;36m0\u001b[0m\u001b[0;34m)\u001b[0m\u001b[0;34m\u001b[0m\u001b[0;34m\u001b[0m\u001b[0m\n\u001b[0m\u001b[1;32m    145\u001b[0m         \u001b[0;32mreturn\u001b[0m \u001b[0msio\u001b[0m\u001b[0;34m.\u001b[0m\u001b[0mgetvalue\u001b[0m\u001b[0;34m(\u001b[0m\u001b[0;34m)\u001b[0m\u001b[0;34m\u001b[0m\u001b[0;34m\u001b[0m\u001b[0m\n\u001b[1;32m    146\u001b[0m \u001b[0;34m\u001b[0m\u001b[0m\n",
      "\u001b[0;32m~/anaconda3/lib/python3.7/pprint.py\u001b[0m in \u001b[0;36m_format\u001b[0;34m(self, object, stream, indent, allowance, context, level)\u001b[0m\n\u001b[1;32m    159\u001b[0m             \u001b[0mself\u001b[0m\u001b[0;34m.\u001b[0m\u001b[0m_readable\u001b[0m \u001b[0;34m=\u001b[0m \u001b[0;32mFalse\u001b[0m\u001b[0;34m\u001b[0m\u001b[0;34m\u001b[0m\u001b[0m\n\u001b[1;32m    160\u001b[0m             \u001b[0;32mreturn\u001b[0m\u001b[0;34m\u001b[0m\u001b[0;34m\u001b[0m\u001b[0m\n\u001b[0;32m--> 161\u001b[0;31m         \u001b[0mrep\u001b[0m \u001b[0;34m=\u001b[0m \u001b[0mself\u001b[0m\u001b[0;34m.\u001b[0m\u001b[0m_repr\u001b[0m\u001b[0;34m(\u001b[0m\u001b[0mobject\u001b[0m\u001b[0;34m,\u001b[0m \u001b[0mcontext\u001b[0m\u001b[0;34m,\u001b[0m \u001b[0mlevel\u001b[0m\u001b[0;34m)\u001b[0m\u001b[0;34m\u001b[0m\u001b[0;34m\u001b[0m\u001b[0m\n\u001b[0m\u001b[1;32m    162\u001b[0m         \u001b[0mmax_width\u001b[0m \u001b[0;34m=\u001b[0m \u001b[0mself\u001b[0m\u001b[0;34m.\u001b[0m\u001b[0m_width\u001b[0m \u001b[0;34m-\u001b[0m \u001b[0mindent\u001b[0m \u001b[0;34m-\u001b[0m \u001b[0mallowance\u001b[0m\u001b[0;34m\u001b[0m\u001b[0;34m\u001b[0m\u001b[0m\n\u001b[1;32m    163\u001b[0m         \u001b[0;32mif\u001b[0m \u001b[0mlen\u001b[0m\u001b[0;34m(\u001b[0m\u001b[0mrep\u001b[0m\u001b[0;34m)\u001b[0m \u001b[0;34m>\u001b[0m \u001b[0mmax_width\u001b[0m\u001b[0;34m:\u001b[0m\u001b[0;34m\u001b[0m\u001b[0;34m\u001b[0m\u001b[0m\n",
      "\u001b[0;32m~/anaconda3/lib/python3.7/pprint.py\u001b[0m in \u001b[0;36m_repr\u001b[0;34m(self, object, context, level)\u001b[0m\n\u001b[1;32m    391\u001b[0m     \u001b[0;32mdef\u001b[0m \u001b[0m_repr\u001b[0m\u001b[0;34m(\u001b[0m\u001b[0mself\u001b[0m\u001b[0;34m,\u001b[0m \u001b[0mobject\u001b[0m\u001b[0;34m,\u001b[0m \u001b[0mcontext\u001b[0m\u001b[0;34m,\u001b[0m \u001b[0mlevel\u001b[0m\u001b[0;34m)\u001b[0m\u001b[0;34m:\u001b[0m\u001b[0;34m\u001b[0m\u001b[0;34m\u001b[0m\u001b[0m\n\u001b[1;32m    392\u001b[0m         repr, readable, recursive = self.format(object, context.copy(),\n\u001b[0;32m--> 393\u001b[0;31m                                                 self._depth, level)\n\u001b[0m\u001b[1;32m    394\u001b[0m         \u001b[0;32mif\u001b[0m \u001b[0;32mnot\u001b[0m \u001b[0mreadable\u001b[0m\u001b[0;34m:\u001b[0m\u001b[0;34m\u001b[0m\u001b[0;34m\u001b[0m\u001b[0m\n\u001b[1;32m    395\u001b[0m             \u001b[0mself\u001b[0m\u001b[0;34m.\u001b[0m\u001b[0m_readable\u001b[0m \u001b[0;34m=\u001b[0m \u001b[0;32mFalse\u001b[0m\u001b[0;34m\u001b[0m\u001b[0;34m\u001b[0m\u001b[0m\n",
      "\u001b[0;32m~/anaconda3/lib/python3.7/site-packages/sklearn/utils/_pprint.py\u001b[0m in \u001b[0;36mformat\u001b[0;34m(self, object, context, maxlevels, level)\u001b[0m\n\u001b[1;32m    168\u001b[0m     \u001b[0;32mdef\u001b[0m \u001b[0mformat\u001b[0m\u001b[0;34m(\u001b[0m\u001b[0mself\u001b[0m\u001b[0;34m,\u001b[0m \u001b[0mobject\u001b[0m\u001b[0;34m,\u001b[0m \u001b[0mcontext\u001b[0m\u001b[0;34m,\u001b[0m \u001b[0mmaxlevels\u001b[0m\u001b[0;34m,\u001b[0m \u001b[0mlevel\u001b[0m\u001b[0;34m)\u001b[0m\u001b[0;34m:\u001b[0m\u001b[0;34m\u001b[0m\u001b[0;34m\u001b[0m\u001b[0m\n\u001b[1;32m    169\u001b[0m         return _safe_repr(object, context, maxlevels, level,\n\u001b[0;32m--> 170\u001b[0;31m                           changed_only=self._changed_only)\n\u001b[0m\u001b[1;32m    171\u001b[0m \u001b[0;34m\u001b[0m\u001b[0m\n\u001b[1;32m    172\u001b[0m     def _pprint_estimator(self, object, stream, indent, allowance, context,\n",
      "\u001b[0;32m~/anaconda3/lib/python3.7/site-packages/sklearn/utils/_pprint.py\u001b[0m in \u001b[0;36m_safe_repr\u001b[0;34m(object, context, maxlevels, level, changed_only)\u001b[0m\n\u001b[1;32m    413\u001b[0m             \u001b[0mparams\u001b[0m \u001b[0;34m=\u001b[0m \u001b[0m_changed_params\u001b[0m\u001b[0;34m(\u001b[0m\u001b[0mobject\u001b[0m\u001b[0;34m)\u001b[0m\u001b[0;34m\u001b[0m\u001b[0;34m\u001b[0m\u001b[0m\n\u001b[1;32m    414\u001b[0m         \u001b[0;32melse\u001b[0m\u001b[0;34m:\u001b[0m\u001b[0;34m\u001b[0m\u001b[0;34m\u001b[0m\u001b[0m\n\u001b[0;32m--> 415\u001b[0;31m             \u001b[0mparams\u001b[0m \u001b[0;34m=\u001b[0m \u001b[0mobject\u001b[0m\u001b[0;34m.\u001b[0m\u001b[0mget_params\u001b[0m\u001b[0;34m(\u001b[0m\u001b[0mdeep\u001b[0m\u001b[0;34m=\u001b[0m\u001b[0;32mFalse\u001b[0m\u001b[0;34m)\u001b[0m\u001b[0;34m\u001b[0m\u001b[0;34m\u001b[0m\u001b[0m\n\u001b[0m\u001b[1;32m    416\u001b[0m         \u001b[0mcomponents\u001b[0m \u001b[0;34m=\u001b[0m \u001b[0;34m[\u001b[0m\u001b[0;34m]\u001b[0m\u001b[0;34m\u001b[0m\u001b[0;34m\u001b[0m\u001b[0m\n\u001b[1;32m    417\u001b[0m         \u001b[0mappend\u001b[0m \u001b[0;34m=\u001b[0m \u001b[0mcomponents\u001b[0m\u001b[0;34m.\u001b[0m\u001b[0mappend\u001b[0m\u001b[0;34m\u001b[0m\u001b[0;34m\u001b[0m\u001b[0m\n",
      "\u001b[0;32m~/anaconda3/lib/python3.7/site-packages/sklearn/base.py\u001b[0m in \u001b[0;36mget_params\u001b[0;34m(self, deep)\u001b[0m\n\u001b[1;32m    190\u001b[0m         \"\"\"\n\u001b[1;32m    191\u001b[0m         \u001b[0mout\u001b[0m \u001b[0;34m=\u001b[0m \u001b[0mdict\u001b[0m\u001b[0;34m(\u001b[0m\u001b[0;34m)\u001b[0m\u001b[0;34m\u001b[0m\u001b[0;34m\u001b[0m\u001b[0m\n\u001b[0;32m--> 192\u001b[0;31m         \u001b[0;32mfor\u001b[0m \u001b[0mkey\u001b[0m \u001b[0;32min\u001b[0m \u001b[0mself\u001b[0m\u001b[0;34m.\u001b[0m\u001b[0m_get_param_names\u001b[0m\u001b[0;34m(\u001b[0m\u001b[0;34m)\u001b[0m\u001b[0;34m:\u001b[0m\u001b[0;34m\u001b[0m\u001b[0;34m\u001b[0m\u001b[0m\n\u001b[0m\u001b[1;32m    193\u001b[0m             \u001b[0mvalue\u001b[0m \u001b[0;34m=\u001b[0m \u001b[0mgetattr\u001b[0m\u001b[0;34m(\u001b[0m\u001b[0mself\u001b[0m\u001b[0;34m,\u001b[0m \u001b[0mkey\u001b[0m\u001b[0;34m,\u001b[0m \u001b[0;32mNone\u001b[0m\u001b[0;34m)\u001b[0m\u001b[0;34m\u001b[0m\u001b[0;34m\u001b[0m\u001b[0m\n\u001b[1;32m    194\u001b[0m             \u001b[0;32mif\u001b[0m \u001b[0mdeep\u001b[0m \u001b[0;32mand\u001b[0m \u001b[0mhasattr\u001b[0m\u001b[0;34m(\u001b[0m\u001b[0mvalue\u001b[0m\u001b[0;34m,\u001b[0m \u001b[0;34m'get_params'\u001b[0m\u001b[0;34m)\u001b[0m\u001b[0;34m:\u001b[0m\u001b[0;34m\u001b[0m\u001b[0;34m\u001b[0m\u001b[0m\n",
      "\u001b[0;32m~/anaconda3/lib/python3.7/site-packages/sklearn/base.py\u001b[0m in \u001b[0;36m_get_param_names\u001b[0;34m(cls)\u001b[0m\n\u001b[1;32m    171\u001b[0m                                    \u001b[0;34m\" %s with constructor %s doesn't \"\u001b[0m\u001b[0;34m\u001b[0m\u001b[0;34m\u001b[0m\u001b[0m\n\u001b[1;32m    172\u001b[0m                                    \u001b[0;34m\" follow this convention.\"\u001b[0m\u001b[0;34m\u001b[0m\u001b[0;34m\u001b[0m\u001b[0m\n\u001b[0;32m--> 173\u001b[0;31m                                    % (cls, init_signature))\n\u001b[0m\u001b[1;32m    174\u001b[0m         \u001b[0;31m# Extract and sort argument names excluding 'self'\u001b[0m\u001b[0;34m\u001b[0m\u001b[0;34m\u001b[0m\u001b[0;34m\u001b[0m\u001b[0m\n\u001b[1;32m    175\u001b[0m         \u001b[0;32mreturn\u001b[0m \u001b[0msorted\u001b[0m\u001b[0;34m(\u001b[0m\u001b[0;34m[\u001b[0m\u001b[0mp\u001b[0m\u001b[0;34m.\u001b[0m\u001b[0mname\u001b[0m \u001b[0;32mfor\u001b[0m \u001b[0mp\u001b[0m \u001b[0;32min\u001b[0m \u001b[0mparameters\u001b[0m\u001b[0;34m]\u001b[0m\u001b[0;34m)\u001b[0m\u001b[0;34m\u001b[0m\u001b[0;34m\u001b[0m\u001b[0m\n",
      "\u001b[0;31mRuntimeError\u001b[0m: scikit-learn estimators should always specify their parameters in the signature of their __init__ (no varargs). <class 'qiskit_machine_learning.algorithms.classifiers.qsvc.QSVC'> with constructor (self, *args, quantum_kernel: Union[qiskit_machine_learning.kernels.quantum_kernel.QuantumKernel, NoneType] = None, **kwargs) doesn't  follow this convention."
     ]
    }
   ],
   "source": [
    "qi = QuantumInstance(backend=Aer.get_backend('statevector_simulator'))\n",
    "\n",
    "pqk = ParamQuantumKernel(pfm, input_params, free_params, quantum_instance=qi)\n",
    "\n",
    "params = [0,1]\n",
    "# check that params are the right dimension\n",
    "pqk.bind_free_params(params)\n",
    "from qiskit_machine_learning.algorithms import QSVC    \n",
    "\n",
    "qsvc = QSVC(quantum_kernel = pqk)\n",
    "qsvc.fit(X, y)"
   ]
  },
  {
   "cell_type": "code",
   "execution_count": 9,
   "metadata": {},
   "outputs": [
    {
     "data": {
      "text/plain": [
       "<qiskit_machine_learning.kernels.parameterized_quantum_kernel.ParamQuantumKernel at 0x7ff86c6eb048>"
      ]
     },
     "execution_count": 9,
     "metadata": {},
     "output_type": "execute_result"
    }
   ],
   "source": [
    "pqk"
   ]
  },
  {
   "cell_type": "code",
   "execution_count": null,
   "metadata": {},
   "outputs": [],
   "source": [
    "pqk.construct_circuit(X, y)"
   ]
  },
  {
   "cell_type": "code",
   "execution_count": null,
   "metadata": {},
   "outputs": [],
   "source": [
    "pqk._alignment([0,0],X,y)"
   ]
  },
  {
   "cell_type": "code",
   "execution_count": null,
   "metadata": {},
   "outputs": [],
   "source": [
    "break"
   ]
  },
  {
   "cell_type": "code",
   "execution_count": null,
   "metadata": {},
   "outputs": [],
   "source": [
    "data2plot = cb_results_hist[-1]\n",
    "plt.rcParams['figure.figsize'] = (10,6)\n",
    "plt.rcParams['figure.dpi'] = 100\n",
    "plt.plot(data2plot[0], -1*np.array(data2plot[2]), color='#bf5700')\n",
    "plt.xlabel('Iterations')\n",
    "plt.ylabel('Alignment')\n",
    "plt.title(\"Variational Kernel Alignment Training\")\n"
   ]
  },
  {
   "cell_type": "code",
   "execution_count": null,
   "metadata": {},
   "outputs": [],
   "source": [
    "[x for x in zip(data2plot[0],data2plot[2],data2plot[1])]"
   ]
  },
  {
   "cell_type": "markdown",
   "metadata": {},
   "source": [
    "# Below is the actual kernel matrix we learned\n",
    "### Note that the data is sorted by class, so theoretically optimal kernel would be block diagonal: \n",
    "\n",
    "$K_{ideal}$ = ```[[1, 1, 0, 0]\n",
    "        [1, 1, 0, 0]\n",
    "        [0, 0, 1, 1]\n",
    "        [0, 0, 1, 1]]```"
   ]
  },
  {
   "cell_type": "code",
   "execution_count": null,
   "metadata": {},
   "outputs": [],
   "source": [
    "pqk.bind_free_params([-0.48135955,  2.37522932])"
   ]
  },
  {
   "cell_type": "code",
   "execution_count": null,
   "metadata": {},
   "outputs": [],
   "source": [
    "# This is just another unsorted dataset to help test out the pprint_kernel functionality\n",
    "#X1 =  np.array([[0.19228390713338783, 0.5084166380972718], [0.3389139042694753, 0.668034072975168], [0.990879538431378, 0.183175053814586], [0.8323444006620221, 0.24562144296684074], [0.8799100869135147, 0.31413051431333294], [0.1319344785305675, 0.266281143406361], [0.6888361219303986, 0.4160719018292932], [0.8298582135852229, 0.4755234311284271], [0.44987847674605574, 0.8834407037854626], [0.6863699818206038, 0.5695005100117569], [0.9412357820468364, 0.19573134488108446], [0.3378461591892481, 0.637575630998092], [0.04286365947462811, 0.7009621003630436], [0.7711201269755299, 0.09082794100953917], [0.5316923869365254, 0.5932487114813776], [0.36741553662541326, 0.6317569233175994], [0.00573443020186426, 0.6435765032481784], [0.4118794044088302, 0.7212478033011144], [0.8476060452208081, 0.7923472810248382], [0.7103470136399597, 0.2516635351417904]])\n",
    "#y1 =  np.array([-1.0, 1.0, 1.0, 1.0, 1.0, 1.0, 1.0, 1.0, 1.0, -1.0, 1.0, 1.0, 1.0, 1.0, -1.0, 1.0, -1.0, 1.0, -1.0, 1.0])"
   ]
  },
  {
   "cell_type": "code",
   "execution_count": null,
   "metadata": {},
   "outputs": [],
   "source": [
    "def pprint_kernel(qk, X, y, sort=False):\n",
    "    \n",
    "    if sort:\n",
    "        X, y = zip(*sorted([xy for xy in zip(X,y)],key=lambda x: x[1], reverse=True))\n",
    "        X = np.array(X)\n",
    "        y = np.array(y)\n",
    "    \n",
    "    psc = positive_submat_color = '#D8FFD6'\n",
    "    nsc = negative_submat_color = 'lightpink'\n",
    "    \n",
    "    df = pd.DataFrame(np.round(qk.evaluate(X), decimals=1))\n",
    "    p1 = np.where(y==1)[0]\n",
    "    m1 = np.where(y!=1)[0]\n",
    "    \n",
    "\n",
    "    rows = df.values\n",
    "    bins = max(rows.shape)\n",
    "    vals = rows.flatten()\n",
    "    binned_values = [[i for i in sorted(vals)[bins*(j-1):bins*(j)]] for j in range(1,bins)]\n",
    "    binned = [np.mean(bin) for bin in binned_values]\n",
    "\n",
    "    def color_vals(val):\n",
    "        #binned is provided\n",
    "        delta = np.abs(np.array(binned) - val)\n",
    "        delta_min = np.min(delta)\n",
    "        fp_color = np.mean(np.where(delta == delta_min)[0]) / bins\n",
    "        cmap = plt.get_cmap('RdYlGn')\n",
    "        hex_color = cm.rgb2hex(cmap(fp_color))\n",
    "        return f\"color: {hex_color};\" \n",
    "    def bold(val):\n",
    "        return 'font-weight: bold'\n",
    "\n",
    "\n",
    "    def highlight_p1_cols(s):\n",
    "        is_m1 = [True if (i in m1) else False for i,si in enumerate(s) ]\n",
    "        return ['background-color: {}'.format(nsc) if v else 'background-color: {}'.format(psc) for v in is_m1]\n",
    "    def highlight_m1_cols(s):\n",
    "        is_m1 = [True if (i in m1) else False for i,si in enumerate(s) ]\n",
    "        return ['background-color: {}'.format(psc) if v else 'background-color: {}'.format(nsc) for v in is_m1]\n",
    "\n",
    "    return df.style.apply(highlight_p1_cols, subset = p1)\\\n",
    "            .apply(highlight_m1_cols, subset = m1)\\\n",
    "            .applymap(bold)\\\n",
    "            .applymap(color_vals)\n",
    "\n",
    "pprint_kernel(pqk, X, y, True)"
   ]
  },
  {
   "cell_type": "code",
   "execution_count": null,
   "metadata": {},
   "outputs": [],
   "source": [
    "pqk.bind_free_params([ 1.38437333, -0.2886204 ])\n",
    "pprint_kernel(pqk, X, y, True)"
   ]
  },
  {
   "cell_type": "markdown",
   "metadata": {},
   "source": [
    "# After out PQK has been trained, it can immediately be used as a standard kernel.\n",
    "### This is possible because the optimal free parameters are automatically bound to the feature map. \n",
    "If the user desires, they are also free to set the free parameters to whatever values they wish. "
   ]
  },
  {
   "cell_type": "code",
   "execution_count": 10,
   "metadata": {},
   "outputs": [],
   "source": [
    "# instantiate a simulator backend\n",
    "qi = QuantumInstance(backend=Aer.get_backend('statevector_simulator'))\n",
    "\n",
    "# Define my parameterized Kernel\n",
    "pqk = ParamQuantumKernel(pfm, input_params, free_params, quantum_instance=qi)\n",
    "pqk.bind_free_params([np.pi,3/2*np.pi])"
   ]
  },
  {
   "cell_type": "code",
   "execution_count": 11,
   "metadata": {},
   "outputs": [],
   "source": [
    "# w = 0.1\n",
    "X =  np.array([[0.08014620505503967, 0.8585289757019198], [0.2363859777964431, 0.9792415062429451], [0.5694036596253715, 0.2525712802791743], [0.5309968914272779, 0.45689713345718896], [0.542831682256627, 0.17117097892232447], [0.2437724067302578, 0.11058803430940511], [0.0934309591004342, 0.40063349207062826], [0.3106335355747758, 0.3969438519287384], [0.15666090561250445, 0.45921694133943514], [0.48251827558346927, 0.04203592199854633], [0.38830659794189404, 0.8445200143015964], [0.34375280035518097, 0.5685127816492518], [0.5886362555749514, 0.0633603070349168], [0.8569637156127624, 0.4180126850971225], [0.3192345186587584, 0.446325031456702], [0.5135014414458929, 0.18310641325643873], [0.18928181633716556, 0.5964832616172795], [0.21260141055336135, 0.8561363327817257], [0.117883298272771, 0.7355136697612326], [0.8923063407096165, 0.9649830130743133]])\n",
    "y =  np.array([1.0, -1.0, 1.0, 1.0, -1.0, 1.0, -1.0, -1.0, -1.0, -1.0, 1.0, 1.0, -1.0, 1.0, -1.0, -1.0, 1.0, 1.0, 1.0, -1.0])\n",
    "pqk.bind_free_params([0,0])"
   ]
  },
  {
   "cell_type": "code",
   "execution_count": 12,
   "metadata": {
    "scrolled": true
   },
   "outputs": [
    {
     "name": "stderr",
     "output_type": "stream",
     "text": [
      "/Users/brycefuller/anaconda3/lib/python3.7/site-packages/qiskit/providers/aer/aerjob.py:56: DeprecationWarning: The BaseJob abstract interface is deprecated as of the 0.18.0 release and will be removed in a future release. Instead you should build your backends using the JobV1 abstract class (which is the current latest version of the backend interface)\n",
      "  super().__init__(backend, job_id)\n"
     ]
    },
    {
     "name": "stdout",
     "output_type": "stream",
     "text": [
      "Training accuracy =  1.0\n"
     ]
    },
    {
     "name": "stderr",
     "output_type": "stream",
     "text": [
      "/Users/brycefuller/anaconda3/lib/python3.7/site-packages/qiskit/providers/aer/aerjob.py:56: DeprecationWarning: The BaseJob abstract interface is deprecated as of the 0.18.0 release and will be removed in a future release. Instead you should build your backends using the JobV1 abstract class (which is the current latest version of the backend interface)\n",
      "  super().__init__(backend, job_id)\n"
     ]
    }
   ],
   "source": [
    "qsvc = QSVC(quantum_kernel = pqk)\n",
    "qsvc.fit(X, y)\n",
    "score = qsvc.score(X, y)\n",
    "print(\"Training accuracy = \", score)"
   ]
  },
  {
   "cell_type": "code",
   "execution_count": 13,
   "metadata": {},
   "outputs": [
    {
     "data": {
      "text/plain": [
       "array([-1.        , -0.91883945, -0.78322822, -0.45842984, -0.87343643,\n",
       "       -1.        , -1.        ,  1.        ,  1.        ,  1.        ,\n",
       "        1.        ,  1.        ,  1.        ,  0.03393394])"
      ]
     },
     "execution_count": 13,
     "metadata": {},
     "output_type": "execute_result"
    }
   ],
   "source": [
    "qsvc.dual_coef_[0]"
   ]
  },
  {
   "cell_type": "code",
   "execution_count": 16,
   "metadata": {},
   "outputs": [
    {
     "data": {
      "text/plain": [
       "array([-1., -1., -1., -1., -1., -1., -1.,  1.,  1.,  1.,  1.,  1.,  1.,\n",
       "        1.])"
      ]
     },
     "execution_count": 16,
     "metadata": {},
     "output_type": "execute_result"
    }
   ],
   "source": [
    "y[qsvc.support_]"
   ]
  },
  {
   "cell_type": "code",
   "execution_count": 17,
   "metadata": {},
   "outputs": [
    {
     "data": {
      "text/plain": [
       "array([ 1., -1.,  1.,  1., -1.,  1., -1., -1., -1., -1.,  1.,  1., -1.,\n",
       "        1., -1., -1.,  1.,  1.,  1., -1.])"
      ]
     },
     "execution_count": 17,
     "metadata": {},
     "output_type": "execute_result"
    }
   ],
   "source": [
    "y"
   ]
  },
  {
   "cell_type": "code",
   "execution_count": null,
   "metadata": {},
   "outputs": [],
   "source": []
  },
  {
   "cell_type": "code",
   "execution_count": null,
   "metadata": {},
   "outputs": [],
   "source": []
  },
  {
   "cell_type": "code",
   "execution_count": null,
   "metadata": {},
   "outputs": [],
   "source": []
  },
  {
   "cell_type": "code",
   "execution_count": null,
   "metadata": {},
   "outputs": [],
   "source": []
  },
  {
   "cell_type": "code",
   "execution_count": null,
   "metadata": {},
   "outputs": [],
   "source": []
  },
  {
   "cell_type": "code",
   "execution_count": null,
   "metadata": {},
   "outputs": [],
   "source": []
  },
  {
   "cell_type": "code",
   "execution_count": null,
   "metadata": {},
   "outputs": [],
   "source": [
    "(1) QKA as a standalone classifier\n",
    "(2) kernel alignment as a standalone class (a la VQE) (requires 3)\n",
    "(3) kernel alignment as a loss function"
   ]
  },
  {
   "cell_type": "markdown",
   "metadata": {},
   "source": [
    "# QSVC Proposed usage"
   ]
  },
  {
   "cell_type": "code",
   "execution_count": null,
   "metadata": {},
   "outputs": [],
   "source": [
    "fm = ...\n",
    "free_params = ...\n",
    "kernel = QuantumKernel(feature_map = fm,\n",
    "                       free_params = free_params)\n",
    "qsvc = QSVC(kernel=kernel, \n",
    "            loss_function='weighted_alignment')\n",
    "qsvc.fit(x_train,y)\n",
    "y_hat = qsvc.predict(x_test)\n"
   ]
  }
 ],
 "metadata": {
  "kernelspec": {
   "display_name": "Python 3",
   "language": "python",
   "name": "python3"
  },
  "language_info": {
   "codemirror_mode": {
    "name": "ipython",
    "version": 3
   },
   "file_extension": ".py",
   "mimetype": "text/x-python",
   "name": "python",
   "nbconvert_exporter": "python",
   "pygments_lexer": "ipython3",
   "version": "3.7.3"
  }
 },
 "nbformat": 4,
 "nbformat_minor": 2
}
